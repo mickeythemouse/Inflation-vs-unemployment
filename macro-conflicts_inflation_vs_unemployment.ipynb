{
 "cells": [
  {
   "cell_type": "code",
   "execution_count": 1,
   "metadata": {},
   "outputs": [],
   "source": [
    "import pandas as pd\n",
    "import seaborn as sns\n",
    "import matplotlib.pyplot as plt\n",
    "from pandas.api.types import is_string_dtype, is_numeric_dtype\n",
    "from sklearn.linear_model import LinearRegression\n",
    "import numpy as np\n",
    "from sklearn.preprocessing import PolynomialFeatures\n",
    "\n"
   ]
  },
  {
   "cell_type": "markdown",
   "metadata": {},
   "source": [
    "This is notes to myself, a pre-university student who has not formally started studying econs and computer science yet so pls dont judge if its badly written. If you would like to point out some glaring error or discuss anything in general, my email is isaacyang2002@gmail.com :). So in H2 (my high school syllabus) we learnt that we UE and inflation are often in conflict. Empirically, we also see this occurring, as stated by my man Philips. Generally, the sacrifice ratio has been used pretty frequently by most policy-makers too, and some famous instances of UE and inflation in conflict include the Volcker disinflation period. Anyways, I would be (correctly, I hope) making use of some simple linear regression techniques to see if inflation alone is a strong predictor for unemployment. The data I used is obtained from the Singapore Ministry of Manpower, you can probably find them online just by searching \"Singapore UE statistics\" and what not. Anyways, have fun (or don't idk)."
   ]
  },
  {
   "cell_type": "code",
   "execution_count": 52,
   "metadata": {
    "scrolled": true
   },
   "outputs": [
    {
     "data": {
      "text/html": [
       "<div>\n",
       "<style scoped>\n",
       "    .dataframe tbody tr th:only-of-type {\n",
       "        vertical-align: middle;\n",
       "    }\n",
       "\n",
       "    .dataframe tbody tr th {\n",
       "        vertical-align: top;\n",
       "    }\n",
       "\n",
       "    .dataframe thead th {\n",
       "        text-align: right;\n",
       "    }\n",
       "</style>\n",
       "<table border=\"1\" class=\"dataframe\">\n",
       "  <thead>\n",
       "    <tr style=\"text-align: right;\">\n",
       "      <th></th>\n",
       "      <th>year</th>\n",
       "      <th>level_1</th>\n",
       "      <th>value</th>\n",
       "    </tr>\n",
       "  </thead>\n",
       "  <tbody>\n",
       "    <tr>\n",
       "      <th>0</th>\n",
       "      <td>1990</td>\n",
       "      <td>MAS Core Inflation Measure</td>\n",
       "      <td>62.094</td>\n",
       "    </tr>\n",
       "    <tr>\n",
       "      <th>1</th>\n",
       "      <td>1990</td>\n",
       "      <td>Services Inflation Measure</td>\n",
       "      <td>na</td>\n",
       "    </tr>\n",
       "    <tr>\n",
       "      <th>2</th>\n",
       "      <td>1990</td>\n",
       "      <td>Retail &amp; Other Goods Inflation Measure</td>\n",
       "      <td>na</td>\n",
       "    </tr>\n",
       "    <tr>\n",
       "      <th>3</th>\n",
       "      <td>1990</td>\n",
       "      <td>Electricity &amp; Gas Inflation Measure</td>\n",
       "      <td>na</td>\n",
       "    </tr>\n",
       "    <tr>\n",
       "      <th>4</th>\n",
       "      <td>1991</td>\n",
       "      <td>MAS Core Inflation Measure</td>\n",
       "      <td>64.359</td>\n",
       "    </tr>\n",
       "    <tr>\n",
       "      <th>5</th>\n",
       "      <td>1991</td>\n",
       "      <td>Services Inflation Measure</td>\n",
       "      <td>na</td>\n",
       "    </tr>\n",
       "    <tr>\n",
       "      <th>6</th>\n",
       "      <td>1991</td>\n",
       "      <td>Retail &amp; Other Goods Inflation Measure</td>\n",
       "      <td>na</td>\n",
       "    </tr>\n",
       "    <tr>\n",
       "      <th>7</th>\n",
       "      <td>1991</td>\n",
       "      <td>Electricity &amp; Gas Inflation Measure</td>\n",
       "      <td>na</td>\n",
       "    </tr>\n",
       "    <tr>\n",
       "      <th>8</th>\n",
       "      <td>1992</td>\n",
       "      <td>MAS Core Inflation Measure</td>\n",
       "      <td>65.398</td>\n",
       "    </tr>\n",
       "    <tr>\n",
       "      <th>9</th>\n",
       "      <td>1992</td>\n",
       "      <td>Services Inflation Measure</td>\n",
       "      <td>na</td>\n",
       "    </tr>\n",
       "    <tr>\n",
       "      <th>10</th>\n",
       "      <td>1992</td>\n",
       "      <td>Retail &amp; Other Goods Inflation Measure</td>\n",
       "      <td>na</td>\n",
       "    </tr>\n",
       "    <tr>\n",
       "      <th>11</th>\n",
       "      <td>1992</td>\n",
       "      <td>Electricity &amp; Gas Inflation Measure</td>\n",
       "      <td>na</td>\n",
       "    </tr>\n",
       "    <tr>\n",
       "      <th>12</th>\n",
       "      <td>1993</td>\n",
       "      <td>MAS Core Inflation Measure</td>\n",
       "      <td>66.562</td>\n",
       "    </tr>\n",
       "    <tr>\n",
       "      <th>13</th>\n",
       "      <td>1993</td>\n",
       "      <td>Services Inflation Measure</td>\n",
       "      <td>na</td>\n",
       "    </tr>\n",
       "    <tr>\n",
       "      <th>14</th>\n",
       "      <td>1993</td>\n",
       "      <td>Retail &amp; Other Goods Inflation Measure</td>\n",
       "      <td>na</td>\n",
       "    </tr>\n",
       "    <tr>\n",
       "      <th>15</th>\n",
       "      <td>1993</td>\n",
       "      <td>Electricity &amp; Gas Inflation Measure</td>\n",
       "      <td>na</td>\n",
       "    </tr>\n",
       "    <tr>\n",
       "      <th>16</th>\n",
       "      <td>1994</td>\n",
       "      <td>MAS Core Inflation Measure</td>\n",
       "      <td>68.246</td>\n",
       "    </tr>\n",
       "    <tr>\n",
       "      <th>17</th>\n",
       "      <td>1994</td>\n",
       "      <td>Services Inflation Measure</td>\n",
       "      <td>na</td>\n",
       "    </tr>\n",
       "    <tr>\n",
       "      <th>18</th>\n",
       "      <td>1994</td>\n",
       "      <td>Retail &amp; Other Goods Inflation Measure</td>\n",
       "      <td>na</td>\n",
       "    </tr>\n",
       "    <tr>\n",
       "      <th>19</th>\n",
       "      <td>1994</td>\n",
       "      <td>Electricity &amp; Gas Inflation Measure</td>\n",
       "      <td>na</td>\n",
       "    </tr>\n",
       "  </tbody>\n",
       "</table>\n",
       "</div>"
      ],
      "text/plain": [
       "    year                                 level_1   value\n",
       "0   1990              MAS Core Inflation Measure  62.094\n",
       "1   1990              Services Inflation Measure      na\n",
       "2   1990  Retail & Other Goods Inflation Measure      na\n",
       "3   1990     Electricity & Gas Inflation Measure      na\n",
       "4   1991              MAS Core Inflation Measure  64.359\n",
       "5   1991              Services Inflation Measure      na\n",
       "6   1991  Retail & Other Goods Inflation Measure      na\n",
       "7   1991     Electricity & Gas Inflation Measure      na\n",
       "8   1992              MAS Core Inflation Measure  65.398\n",
       "9   1992              Services Inflation Measure      na\n",
       "10  1992  Retail & Other Goods Inflation Measure      na\n",
       "11  1992     Electricity & Gas Inflation Measure      na\n",
       "12  1993              MAS Core Inflation Measure  66.562\n",
       "13  1993              Services Inflation Measure      na\n",
       "14  1993  Retail & Other Goods Inflation Measure      na\n",
       "15  1993     Electricity & Gas Inflation Measure      na\n",
       "16  1994              MAS Core Inflation Measure  68.246\n",
       "17  1994              Services Inflation Measure      na\n",
       "18  1994  Retail & Other Goods Inflation Measure      na\n",
       "19  1994     Electricity & Gas Inflation Measure      na"
      ]
     },
     "execution_count": 52,
     "metadata": {},
     "output_type": "execute_result"
    }
   ],
   "source": [
    "cpi = pd.read_csv(\"C:\\\\development\\\\random_data\\\\singapore_data\\\\inflation\\\\cpi.csv\") \n",
    "cpi.head(20) \n",
    "#cool! so there's 3 different types of inflation here, I think to start off I will look at MAS core inflation only!\n"
   ]
  },
  {
   "cell_type": "code",
   "execution_count": 46,
   "metadata": {
    "scrolled": true
   },
   "outputs": [
    {
     "data": {
      "text/plain": [
       "62.094"
      ]
     },
     "execution_count": 46,
     "metadata": {},
     "output_type": "execute_result"
    }
   ],
   "source": [
    "data = np.genfromtxt('C:\\\\development\\\\random_data\\\\singapore_data\\\\inflation\\\\cpi.csv', delimiter=',')\n"
   ]
  },
  {
   "cell_type": "code",
   "execution_count": 119,
   "metadata": {},
   "outputs": [],
   "source": [
    "list = []\n",
    "sum = 0\n",
    "for i in data[9:]: #note i put [9:] because the UE data is from 1992 onwards, probably because Singapore is only like 50 years old\n",
    "    if sum % 4 == 0:\n",
    "        list.append(i[2])\n",
    "    sum +=1\n",
    "#I feel like this is the clumsiest method to get the core inflations but i just am unable to can. Anyways theres 29 values now\n",
    "#hmm, 29 isn't a really large value to go by for linear regression innit but ok whatever"
   ]
  },
  {
   "cell_type": "code",
   "execution_count": 126,
   "metadata": {
    "scrolled": true
   },
   "outputs": [
    {
     "name": "stdout",
     "output_type": "stream",
     "text": [
      "[1.7798709440655702, 2.5299720561281176, 2.19500043958621, 1.796570314292269, 1.5409101793033426, 0.3953336754934885, 0.49740245385210485, 1.4875714914210205, 1.5538215611368578, -0.05069032215033242, 0.9395811923605555, 1.9886025571524968, 1.256239061385874, 1.716941513878923, 2.2027817987286804, 5.673994704107413, -0.02214400596723323, 1.5154517794901055, 2.1668982465004656, 2.5491738788355636, 1.7109099278809345, 1.9482968566471544, 0.49573498789729525, 0.9013841558332425, 1.4530974742789147, 1.6840136858220185, 1.0448032657680477, -0.15500000000000114]\n"
     ]
    }
   ],
   "source": [
    "core = []\n",
    "sum =0\n",
    "for x in list[1:]:\n",
    "    inf = (x - list[sum])/list[sum]*100\n",
    "    core.append(inf)\n",
    "    sum+=1\n",
    "print(core)"
   ]
  },
  {
   "cell_type": "code",
   "execution_count": 127,
   "metadata": {
    "scrolled": true
   },
   "outputs": [
    {
     "data": {
      "text/plain": [
       "PolynomialFeatures(degree=2, include_bias=False, interaction_only=False)"
      ]
     },
     "execution_count": 127,
     "metadata": {},
     "output_type": "execute_result"
    }
   ],
   "source": [
    "np_core = np.array(core).reshape(-1, 1)\n",
    "transformer = PolynomialFeatures(degree=2, include_bias=False) #highest being X^2\n",
    "transformer.fit(np_core)"
   ]
  },
  {
   "cell_type": "code",
   "execution_count": 128,
   "metadata": {},
   "outputs": [
    {
     "data": {
      "text/html": [
       "<div>\n",
       "<style scoped>\n",
       "    .dataframe tbody tr th:only-of-type {\n",
       "        vertical-align: middle;\n",
       "    }\n",
       "\n",
       "    .dataframe tbody tr th {\n",
       "        vertical-align: top;\n",
       "    }\n",
       "\n",
       "    .dataframe thead th {\n",
       "        text-align: right;\n",
       "    }\n",
       "</style>\n",
       "<table border=\"1\" class=\"dataframe\">\n",
       "  <thead>\n",
       "    <tr style=\"text-align: right;\">\n",
       "      <th></th>\n",
       "      <th>year</th>\n",
       "      <th>residential_status</th>\n",
       "      <th>unemployment_rate</th>\n",
       "    </tr>\n",
       "  </thead>\n",
       "  <tbody>\n",
       "    <tr>\n",
       "      <th>0</th>\n",
       "      <td>1992</td>\n",
       "      <td>overall</td>\n",
       "      <td>1.8</td>\n",
       "    </tr>\n",
       "    <tr>\n",
       "      <th>1</th>\n",
       "      <td>1993</td>\n",
       "      <td>overall</td>\n",
       "      <td>1.7</td>\n",
       "    </tr>\n",
       "    <tr>\n",
       "      <th>2</th>\n",
       "      <td>1994</td>\n",
       "      <td>overall</td>\n",
       "      <td>1.7</td>\n",
       "    </tr>\n",
       "    <tr>\n",
       "      <th>3</th>\n",
       "      <td>1995</td>\n",
       "      <td>overall</td>\n",
       "      <td>1.8</td>\n",
       "    </tr>\n",
       "    <tr>\n",
       "      <th>4</th>\n",
       "      <td>1996</td>\n",
       "      <td>overall</td>\n",
       "      <td>1.7</td>\n",
       "    </tr>\n",
       "  </tbody>\n",
       "</table>\n",
       "</div>"
      ],
      "text/plain": [
       "   year residential_status  unemployment_rate\n",
       "0  1992            overall                1.8\n",
       "1  1993            overall                1.7\n",
       "2  1994            overall                1.7\n",
       "3  1995            overall                1.8\n",
       "4  1996            overall                1.7"
      ]
     },
     "execution_count": 128,
     "metadata": {},
     "output_type": "execute_result"
    }
   ],
   "source": [
    "#now onto UE!\n",
    "UE = pd.read_csv(\"C:\\\\development\\\\random_data\\\\singapore_data\\\\unemployment\\\\UE_rate.csv\")\n",
    "UE.head()\n",
    "#aha since the format of this data is like this, its much easier and I don't havae to use the np.genfromtxt thing that i copied \n",
    "#from stackexchange"
   ]
  },
  {
   "cell_type": "code",
   "execution_count": 132,
   "metadata": {},
   "outputs": [
    {
     "data": {
      "text/plain": [
       "(28,)"
      ]
     },
     "execution_count": 132,
     "metadata": {},
     "output_type": "execute_result"
    }
   ],
   "source": [
    "UE_rate = np.array(UE[\"unemployment_rate\"].values.tolist())\n",
    "UE_rate = UE_rate[1:]\n",
    "np.shape(UE_rate)"
   ]
  },
  {
   "cell_type": "code",
   "execution_count": 133,
   "metadata": {},
   "outputs": [
    {
     "name": "stdout",
     "output_type": "stream",
     "text": [
      "0.16331141272426608\n"
     ]
    }
   ],
   "source": [
    "model = LinearRegression()\n",
    "model.fit(np_core, UE_rate)\n",
    "r_sqr = model.score(np_core, UE_rate)\n",
    "print(r_sqr) #well this sucks "
   ]
  },
  {
   "cell_type": "code",
   "execution_count": 134,
   "metadata": {},
   "outputs": [
    {
     "name": "stdout",
     "output_type": "stream",
     "text": [
      "[1.7 1.7 1.8 1.7 1.4 2.5 2.8 2.7 2.7 3.6 4.  3.4 3.1 2.7 2.1 2.2 3.  2.2\n",
      " 2.  2.  1.9 2.  1.9 2.1 2.2 2.1 2.3 3. ]\n"
     ]
    }
   ],
   "source": [
    "pred = model.predict(np_core)\n",
    "print(UE_rate)"
   ]
  },
  {
   "cell_type": "code",
   "execution_count": 135,
   "metadata": {},
   "outputs": [
    {
     "data": {
      "text/plain": [
       "array([2.32775353, 2.15483253, 2.23205362, 2.32390382, 2.38284121,\n",
       "       2.64693125, 2.62340131, 2.39513739, 2.37986475, 2.74975327,\n",
       "       2.52146573, 2.27963458, 2.44846651, 2.34226066, 2.23025978,\n",
       "       1.43004021, 2.74317248, 2.38871014, 2.23853203, 2.15040593,\n",
       "       2.34365113, 2.28892626, 2.62378571, 2.5302713 , 2.4030847 ,\n",
       "       2.34985152, 2.49720886, 2.77379981])"
      ]
     },
     "execution_count": 135,
     "metadata": {},
     "output_type": "execute_result"
    }
   ],
   "source": [
    "pred"
   ]
  },
  {
   "cell_type": "code",
   "execution_count": 136,
   "metadata": {
    "scrolled": true
   },
   "outputs": [
    {
     "data": {
      "text/plain": [
       "[<matplotlib.lines.Line2D at 0x1d00c929438>]"
      ]
     },
     "execution_count": 136,
     "metadata": {},
     "output_type": "execute_result"
    },
    {
     "data": {
      "image/png": "[encoded data removed]",
      "text/plain": [
       "<Figure size 432x288 with 1 Axes>"
      ]
     },
     "metadata": {
      "needs_background": "light"
     },
     "output_type": "display_data"
    }
   ],
   "source": [
    "plt.plot(np_core, UE_rate)\n"
   ]
  },
  {
   "cell_type": "code",
   "execution_count": 139,
   "metadata": {},
   "outputs": [
    {
     "data": {
      "image/png": "[encoded data removed]",
      "text/plain": [
       "<Figure size 432x288 with 2 Axes>"
      ]
     },
     "metadata": {
      "needs_background": "light"
     },
     "output_type": "display_data"
    }
   ],
   "source": [
    "\n",
    "plt.subplot(1, 2, 1) # row 1, col 2 index 1\n",
    "plt.plot(np_core, UE_rate)\n",
    "plt.title(\"actual core inflation vs UE\")\n",
    "plt.xlabel('np_core')\n",
    "plt.ylabel('UE_rate')\n",
    "\n",
    "plt.subplot(1, 2, 2) # index 2\n",
    "plt.plot(np_core, pred)\n",
    "plt.title(\"linear regression model\")\n",
    "plt.xlabel('np_core')\n",
    "plt.ylabel('UE')\n",
    "\n",
    "plt.show()"
   ]
  },
  {
   "cell_type": "markdown",
   "metadata": {},
   "source": [
    "# Conclusion:#\n",
    "honestly it looks like linear regression model as a model sucks in prediction, as seen from both the R value and the graphs above but ig if you were to hold a knife to my throat and demand a trend in simplest terms, it looks like its correct to say that UE is inversely proportional to inflation. \n",
    "# Limitations#\n",
    "I honestly think data is so limited, I think we could try to increase the data by looking at other countries with a longer history/combining countries. We should consider countries of the same type too (very open economy, less open economy, similar labor laws etc.). Also, we should consider unemployment as a lagging indicator (?), so maybe dial back the UE to the length of half a business cycle or so. "
   ]
  },
  {
   "cell_type": "markdown",
   "metadata": {},
   "source": [
    "# part 2#\n",
    "I think what I'm going to do next is to find more data. I'm going to look at the U.S. only since I can't really find any other good datasets lmao. lmk if you guys find any. The dataset I found on FRED is 100 years, from 1947 and both the inflation and UE is given quarterly! how nice, so you have about 400ish entries if my math is right, which is substantially more than 29. Maybe we will see a clearer trend here! I'm still gonna pretend that the lagging indicator is not a thing first."
   ]
  },
  {
   "cell_type": "code",
   "execution_count": 228,
   "metadata": {},
   "outputs": [
    {
     "data": {
      "text/html": [
       "<div>\n",
       "<style scoped>\n",
       "    .dataframe tbody tr th:only-of-type {\n",
       "        vertical-align: middle;\n",
       "    }\n",
       "\n",
       "    .dataframe tbody tr th {\n",
       "        vertical-align: top;\n",
       "    }\n",
       "\n",
       "    .dataframe thead th {\n",
       "        text-align: right;\n",
       "    }\n",
       "</style>\n",
       "<table border=\"1\" class=\"dataframe\">\n",
       "  <thead>\n",
       "    <tr style=\"text-align: right;\">\n",
       "      <th></th>\n",
       "      <th>DATE</th>\n",
       "      <th>PCECTPI</th>\n",
       "    </tr>\n",
       "  </thead>\n",
       "  <tbody>\n",
       "    <tr>\n",
       "      <th>0</th>\n",
       "      <td>1947-01-01</td>\n",
       "      <td>12.226</td>\n",
       "    </tr>\n",
       "    <tr>\n",
       "      <th>1</th>\n",
       "      <td>1947-04-01</td>\n",
       "      <td>12.324</td>\n",
       "    </tr>\n",
       "    <tr>\n",
       "      <th>2</th>\n",
       "      <td>1947-07-01</td>\n",
       "      <td>12.553</td>\n",
       "    </tr>\n",
       "    <tr>\n",
       "      <th>3</th>\n",
       "      <td>1947-10-01</td>\n",
       "      <td>12.866</td>\n",
       "    </tr>\n",
       "    <tr>\n",
       "      <th>4</th>\n",
       "      <td>1948-01-01</td>\n",
       "      <td>13.009</td>\n",
       "    </tr>\n",
       "    <tr>\n",
       "      <th>5</th>\n",
       "      <td>1948-04-01</td>\n",
       "      <td>13.143</td>\n",
       "    </tr>\n",
       "    <tr>\n",
       "      <th>6</th>\n",
       "      <td>1948-07-01</td>\n",
       "      <td>13.344</td>\n",
       "    </tr>\n",
       "    <tr>\n",
       "      <th>7</th>\n",
       "      <td>1948-10-01</td>\n",
       "      <td>13.302</td>\n",
       "    </tr>\n",
       "    <tr>\n",
       "      <th>8</th>\n",
       "      <td>1949-01-01</td>\n",
       "      <td>13.197</td>\n",
       "    </tr>\n",
       "    <tr>\n",
       "      <th>9</th>\n",
       "      <td>1949-04-01</td>\n",
       "      <td>13.116</td>\n",
       "    </tr>\n",
       "  </tbody>\n",
       "</table>\n",
       "</div>"
      ],
      "text/plain": [
       "         DATE  PCECTPI\n",
       "0  1947-01-01   12.226\n",
       "1  1947-04-01   12.324\n",
       "2  1947-07-01   12.553\n",
       "3  1947-10-01   12.866\n",
       "4  1948-01-01   13.009\n",
       "5  1948-04-01   13.143\n",
       "6  1948-07-01   13.344\n",
       "7  1948-10-01   13.302\n",
       "8  1949-01-01   13.197\n",
       "9  1949-04-01   13.116"
      ]
     },
     "execution_count": 228,
     "metadata": {},
     "output_type": "execute_result"
    }
   ],
   "source": [
    "df = pd.read_csv(\"C:\\\\development\\\\random_data\\\\econs_data\\\\inflation\\\\US_quarterly.csv\")\n",
    "df.head(10) # I am in love with how convenient FRED made the data for comparison gosh."
   ]
  },
  {
   "cell_type": "code",
   "execution_count": null,
   "metadata": {},
   "outputs": [],
   "source": []
  },
  {
   "cell_type": "code",
   "execution_count": 229,
   "metadata": {
    "scrolled": true
   },
   "outputs": [
    {
     "data": {
      "text/plain": [
       "PolynomialFeatures(degree=2, include_bias=False, interaction_only=False)"
      ]
     },
     "execution_count": 229,
     "metadata": {},
     "output_type": "execute_result"
    }
   ],
   "source": [
    "CPI = np.array(df[\"PCECTPI\"].values.tolist())\n",
    "inflation = []\n",
    "sum = 0\n",
    "for i in CPI[1:]:\n",
    "    inf = (i - CPI[sum])/CPI[sum] *100\n",
    "    inflation.append(inf)\n",
    "    sum+=1\n",
    "inf = np.asarray(inflation).reshape(-1,1)[7:] #I only look at inflation rates from 1949 onwards cos thats the UE data start time\n",
    "np.shape(inf) #now we gotta check the shape of the other one to make sure we took out the 1949-01-01 element\n",
    "transformer = PolynomialFeatures(degree=2, include_bias=False) #highest being X^2\n",
    "transformer.fit(inf)"
   ]
  },
  {
   "cell_type": "code",
   "execution_count": 230,
   "metadata": {},
   "outputs": [
    {
     "data": {
      "text/plain": [
       "292"
      ]
     },
     "execution_count": 230,
     "metadata": {},
     "output_type": "execute_result"
    }
   ],
   "source": [
    "df = pd.read_csv(\"C:\\\\development\\\\random_data\\\\econs_data\\\\unemployment\\\\US_quarterly.csv\")[0:292]\n",
    "df.head() #wow 5% is really high innit\n",
    "len(df)"
   ]
  },
  {
   "cell_type": "code",
   "execution_count": 231,
   "metadata": {
    "scrolled": true
   },
   "outputs": [
    {
     "data": {
      "text/plain": [
       "290"
      ]
     },
     "execution_count": 231,
     "metadata": {},
     "output_type": "execute_result"
    }
   ],
   "source": [
    "UE = np.array(df[\"NROU\"].values.tolist())[0:290]\n",
    "len(UE) #great! now both are the same length and each element in their respective positions represent the same time period!"
   ]
  },
  {
   "cell_type": "code",
   "execution_count": 236,
   "metadata": {},
   "outputs": [
    {
     "data": {
      "text/plain": [
       "0.323721522485204"
      ]
     },
     "execution_count": 236,
     "metadata": {},
     "output_type": "execute_result"
    }
   ],
   "source": [
    "model = LinearRegression(inf,UE)\n",
    "model = LinearRegression().fit(inf, UE)\n",
    "model.score(inf,UE) #wow! much more decent than before!!! still sucks but its a big improvement"
   ]
  },
  {
   "cell_type": "code",
   "execution_count": 246,
   "metadata": {},
   "outputs": [],
   "source": [
    "predictions = model.predict(inf) #in-sample predictions! lets not get too ambitious lmao"
   ]
  },
  {
   "cell_type": "code",
   "execution_count": 259,
   "metadata": {},
   "outputs": [
    {
     "data": {
      "image/png": "[encoded data removed]",
      "text/plain": [
       "<Figure size 432x288 with 2 Axes>"
      ]
     },
     "metadata": {
      "needs_background": "light"
     },
     "output_type": "display_data"
    }
   ],
   "source": [
    "plt.subplot(1, 2, 1) # row 1, col 2 index 1\n",
    "plt.plot(predictions, inf)\n",
    "plt.title(\"predicted inflation vs UE\")\n",
    "plt.xlabel('UE_predicted')\n",
    "plt.ylabel('inf')\n",
    "\n",
    "plt.subplot(1, 2, 2) # index 2\n",
    "plt.plot(UE, inf)\n",
    "plt.title(\"actual\")\n",
    "plt.xlabel('UE')\n",
    "\n",
    "plt.show()"
   ]
  },
  {
   "cell_type": "markdown",
   "metadata": {},
   "source": [
    "# Conclusion#\n",
    "As expected, the r value is higher but  the predicted UE is just completely opposite what was predicted by my econs teacher ms lio! If the code is right (a huge if), I'm guessing this is because of stagflation, although god knows why 100 years of data will be affected so heavily by 10 years of stagflation, maybe the US never bothered to rehire ppl after the 1970s. Anyways, for the third part I will implement time lag in intervals of 2 months, until my computer crashes. So what I will do is to pick the nth month of the inflation, and then match it with some (n+x)th month of UE."
   ]
  },
  {
   "cell_type": "code",
   "execution_count": 269,
   "metadata": {},
   "outputs": [
    {
     "name": "stdout",
     "output_type": "stream",
     "text": [
      "[[-0.78935498]\n",
      " [-0.61377586]\n",
      " [-0.57944495]\n",
      " [-0.07668712]\n",
      " [-0.16116654]\n",
      " [ 0.47659313]\n",
      " [ 2.09624359]\n",
      " [ 1.77594605]\n",
      " [ 3.18068031]\n",
      " [ 0.7992008 ]\n",
      " [ 0.13450375]\n",
      " [ 1.32909155]\n",
      " [ 0.42559129]\n",
      " [-0.02084202]\n",
      " [ 0.65318602]\n",
      " [ 0.16568864]\n",
      " [ 0.37218278]\n",
      " [ 0.15106777]\n",
      " [ 0.53479602]\n",
      " [ 0.43647275]\n",
      " [ 0.50247844]\n",
      " [-0.135126  ]\n",
      " [-0.33150666]\n",
      " [-0.09503122]\n",
      " [ 0.31933687]\n",
      " [ 0.1015916 ]\n",
      " [ 0.39242219]\n",
      " [ 0.27631756]\n",
      " [ 0.40997379]\n",
      " [ 0.66934404]\n",
      " [ 0.97739362]\n",
      " [ 0.58602752]\n",
      " [ 0.89683163]\n",
      " [ 0.6358269 ]\n",
      " [ 0.81232674]\n",
      " [ 0.51800217]\n",
      " [ 1.23425372]\n",
      " [ 0.18225239]\n",
      " [ 0.07527759]\n",
      " [-0.03761048]\n",
      " [ 0.68351414]\n",
      " [ 0.40483308]\n",
      " [ 0.60790274]\n",
      " [ 0.54257352]\n",
      " [ 0.12877905]\n",
      " [ 0.5267026 ]\n",
      " [ 0.37163397]\n",
      " [ 0.4430956 ]\n",
      " [ 0.18733382]\n",
      " [-0.01206345]\n",
      " [ 0.35591482]\n",
      " [ 0.10819909]\n",
      " [ 0.43232857]\n",
      " [ 0.35872295]\n",
      " [ 0.26808054]\n",
      " [ 0.3030123 ]\n",
      " [ 0.29024997]\n",
      " [ 0.15356447]\n",
      " [ 0.4835761 ]\n",
      " [ 0.36974001]\n",
      " [ 0.47362882]\n",
      " [ 0.2153291 ]\n",
      " [ 0.33101045]\n",
      " [ 0.32991839]\n",
      " [ 0.3230645 ]\n",
      " [ 0.50603795]\n",
      " [ 0.3718961 ]\n",
      " [ 0.30781508]\n",
      " [ 0.77285901]\n",
      " [ 0.81768454]\n",
      " [ 0.76071149]\n",
      " [ 0.77162207]\n",
      " [ 0.29196276]\n",
      " [ 0.47237175]\n",
      " [ 0.92936803]\n",
      " [ 0.86122847]\n",
      " [ 1.06331561]\n",
      " [ 1.02555928]\n",
      " [ 1.03618767]\n",
      " [ 1.10364933]\n",
      " [ 0.9680243 ]\n",
      " [ 1.27492478]\n",
      " [ 1.22362657]\n",
      " [ 1.15411402]\n",
      " [ 1.16061768]\n",
      " [ 1.10841031]\n",
      " [ 0.97124724]\n",
      " [ 1.2952381 ]\n",
      " [ 0.94960511]\n",
      " [ 1.1362578 ]\n",
      " [ 0.98535777]\n",
      " [ 0.62009849]\n",
      " [ 1.05582744]\n",
      " [ 0.57396529]\n",
      " [ 0.87832717]\n",
      " [ 0.81764342]\n",
      " [ 1.20555872]\n",
      " [ 1.92324352]\n",
      " [ 1.81895453]\n",
      " [ 2.04524585]\n",
      " [ 2.97774869]\n",
      " [ 2.83206228]\n",
      " [ 2.69612577]\n",
      " [ 2.54259601]\n",
      " [ 1.88167113]\n",
      " [ 1.22767857]\n",
      " [ 1.87075435]\n",
      " [ 1.67929337]\n",
      " [ 1.09875017]\n",
      " [ 0.83888059]\n",
      " [ 1.51897882]\n",
      " [ 1.57919183]\n",
      " [ 1.80286106]\n",
      " [ 1.71318576]\n",
      " [ 1.50454201]\n",
      " [ 1.4200926 ]\n",
      " [ 1.64225749]\n",
      " [ 2.05281244]\n",
      " [ 1.75454143]\n",
      " [ 1.88975007]\n",
      " [ 1.88603989]\n",
      " [ 2.73195011]\n",
      " [ 2.47965377]\n",
      " [ 2.42231076]\n",
      " [ 3.00036305]\n",
      " [ 2.44719152]\n",
      " [ 2.33958369]\n",
      " [ 2.47340489]\n",
      " [ 2.59414618]\n",
      " [ 1.67884879]\n",
      " [ 1.64663597]\n",
      " [ 1.53155941]\n",
      " [ 1.27119566]\n",
      " [ 0.96292316]\n",
      " [ 1.57963085]\n",
      " [ 1.10237871]\n",
      " [ 0.82709728]\n",
      " [ 0.91488487]\n",
      " [ 1.31404706]\n",
      " [ 0.65956163]\n",
      " [ 1.08074633]\n",
      " [ 0.96839858]\n",
      " [ 0.77120319]\n",
      " [ 0.61767962]\n",
      " [ 1.17951391]\n",
      " [ 0.810883  ]\n",
      " [ 0.78354184]\n",
      " [ 0.69857843]\n",
      " [ 0.70865114]\n",
      " [-0.10554969]\n",
      " [ 0.52645238]\n",
      " [ 0.60483127]\n",
      " [ 0.94211665]\n",
      " [ 0.96419233]\n",
      " [ 0.94779059]\n",
      " [ 0.86406556]\n",
      " [ 0.78954341]\n",
      " [ 1.10406225]\n",
      " [ 1.23240657]\n",
      " [ 1.01022208]\n",
      " [ 1.1492889 ]\n",
      " [ 1.34738818]\n",
      " [ 0.59032658]\n",
      " [ 0.78577065]\n",
      " [ 1.45000816]\n",
      " [ 0.90837473]\n",
      " [ 1.26983621]\n",
      " [ 1.3231384 ]\n",
      " [ 0.52482842]\n",
      " [ 0.54680259]\n",
      " [ 0.67901804]\n",
      " [ 0.72631836]\n",
      " [ 0.62564382]\n",
      " [ 0.66541212]\n",
      " [ 0.63858106]\n",
      " [ 0.69694178]\n",
      " [ 0.59619556]\n",
      " [ 0.67041237]\n",
      " [ 0.43570762]\n",
      " [ 0.57600511]\n",
      " [ 0.35776111]\n",
      " [ 0.55772769]\n",
      " [ 0.71902339]\n",
      " [ 0.46835748]\n",
      " [ 0.49018915]\n",
      " [ 0.58057805]\n",
      " [ 0.40950957]\n",
      " [ 0.43985412]\n",
      " [ 0.55572494]\n",
      " [ 0.66842156]\n",
      " [ 0.42713981]\n",
      " [ 0.6816075 ]\n",
      " [ 0.44139948]\n",
      " [ 0.25073468]\n",
      " [ 0.26355422]\n",
      " [ 0.31382437]\n",
      " [ 0.0080216 ]\n",
      " [ 0.18047163]\n",
      " [ 0.30825071]\n",
      " [ 0.26473327]\n",
      " [ 0.19636721]\n",
      " [ 0.56940821]\n",
      " [ 0.55038382]\n",
      " [ 0.6062987 ]\n",
      " [ 0.81220388]\n",
      " [ 0.47642411]\n",
      " [ 0.6450701 ]\n",
      " [ 0.56560653]\n",
      " [ 0.74016708]\n",
      " [ 0.46881498]\n",
      " [ 0.05017499]\n",
      " [ 0.0413736 ]\n",
      " [ 0.20051633]\n",
      " [ 0.74167646]\n",
      " [ 0.51771016]\n",
      " [ 0.46687417]\n",
      " [ 0.76467262]\n",
      " [ 0.10004392]\n",
      " [ 0.6593862 ]\n",
      " [ 0.49160279]\n",
      " [ 0.77114937]\n",
      " [ 0.67317925]\n",
      " [ 0.49170982]\n",
      " [ 0.85450892]\n",
      " [ 0.58125227]\n",
      " [ 0.63148819]\n",
      " [ 1.08022369]\n",
      " [ 0.79606891]\n",
      " [ 0.51932408]\n",
      " [ 0.87727232]\n",
      " [ 0.71947283]\n",
      " [-0.16467499]\n",
      " [ 0.91389341]\n",
      " [ 0.84929207]\n",
      " [ 0.56507693]\n",
      " [ 1.01708573]\n",
      " [ 0.81388455]\n",
      " [ 0.97305389]\n",
      " [ 1.06745738]\n",
      " [-1.59684822]\n",
      " [-0.67508572]\n",
      " [ 0.39772727]\n",
      " [ 0.6887273 ]\n",
      " [ 0.77203699]\n",
      " [ 0.38621822]\n",
      " [ 0.15515091]\n",
      " [ 0.19259151]\n",
      " [ 0.64038946]\n",
      " [ 0.83976914]\n",
      " [ 0.98306655]\n",
      " [ 0.46279307]\n",
      " [ 0.32976845]\n",
      " [ 0.66242579]\n",
      " [ 0.24212832]\n",
      " [ 0.29065397]\n",
      " [ 0.56063559]\n",
      " [ 0.36074176]\n",
      " [ 0.07129489]\n",
      " [ 0.40569557]\n",
      " [ 0.41883888]\n",
      " [ 0.48088247]\n",
      " [ 0.50104506]\n",
      " [ 0.28280158]\n",
      " [-0.11532125]\n",
      " [-0.41524774]\n",
      " [ 0.48517678]\n",
      " [ 0.24141709]\n",
      " [-0.09865558]\n",
      " [ 0.05324917]\n",
      " [ 0.62800577]\n",
      " [ 0.37502885]\n",
      " [ 0.47326167]\n",
      " [ 0.55017354]\n",
      " [ 0.28259035]\n",
      " [ 0.37351893]\n",
      " [ 0.66889002]\n",
      " [ 0.65602306]\n",
      " [ 0.58294672]\n",
      " [ 0.3346151 ]\n",
      " [ 0.4053581 ]\n",
      " [ 0.10460059]\n",
      " [ 0.67369386]\n",
      " [ 0.27859972]\n",
      " [ 0.42763367]\n",
      " [ 0.31280512]\n",
      " [-0.40826259]\n",
      " [ 0.9067463 ]\n",
      " [ 0.37755477]\n",
      " [ 0.94793081]\n",
      " [ 1.58068485]]\n",
      "[5.25505257 5.26151562 5.268013   5.274564   5.281182   5.287866\n",
      " 5.294604   5.301367   5.308113   5.314789   5.32133341 5.3276825\n",
      " 5.333774   5.339555   5.34498548 5.35004044 5.354713   5.35901165\n",
      " 5.362958   5.36658239 5.369922   5.37301445 5.375902   5.378624\n",
      " 5.38122    5.383725   5.386171   5.388586   5.39099646 5.39343\n",
      " 5.395917   5.398493   5.40119839 5.40408039 5.4071846  5.410558\n",
      " 5.41424036 5.418266   5.42265844 5.427429   5.43257666 5.43808556\n",
      " 5.443927   5.450064   5.45645237 5.463051   5.46982956 5.47677\n",
      " 5.483875   5.491165   5.49867535 5.50645542 5.514559   5.523042\n",
      " 5.53195047 5.541324   5.551188   5.561552   5.572411   5.58374739\n",
      " 5.59552765 5.607706   5.62022257 5.633007   5.645977   5.659044\n",
      " 5.672116   5.685105   5.69793    5.710529   5.722861   5.734915\n",
      " 5.746704   5.75827    5.769672   5.780984   5.792286   5.80365848\n",
      " 5.81517553 5.826905   5.838901   5.85120964 5.863864   5.876888\n",
      " 5.89029837 5.9041     5.918292   5.932861   5.947782   5.963016\n",
      " 5.97850561 5.994177   6.00994    6.02569056 6.041317   6.056706\n",
      " 6.0717454  6.086335   6.10038662 6.11383057 6.12661648 6.138715\n",
      " 6.15011454 6.16081953 6.170844   6.180209   6.188934   6.19703245\n",
      " 6.204509   6.211358   6.217563   6.223099   6.227931   6.23201656\n",
      " 6.235309   6.237757   6.239311   6.239927   6.23957443 6.23823452\n",
      " 6.23590946 6.232617   6.22839356 6.22329    6.21737051 6.210709\n",
      " 6.203388   6.1954956  6.187123   6.17836142 6.16930246 6.160031\n",
      " 6.150627   6.14115953 6.131687   6.122254   6.112889   6.103606\n",
      " 6.09440041 6.085254   6.076131   6.066982   6.057761   6.04842138\n",
      " 6.038903   6.02913952 6.019057   6.008578   5.997622   5.98611\n",
      " 5.97396755 5.96112537 5.9475255  5.9331255  5.91790152 5.901855\n",
      " 5.885015   5.86744    5.849217   5.83045244 5.81126738 5.791787\n",
      " 5.772135   5.75242853 5.732765   5.71323061 5.69390249 5.67485142\n",
      " 5.65614557 5.637838   5.619961   5.602534   5.58557653 5.569084\n",
      " 5.553059   5.537511   5.522455   5.50790453 5.49386454 5.48034143\n",
      " 5.46733856 5.454845   5.442838   5.431291   5.420172   5.40945148\n",
      " 5.399091   5.38905    5.379276   5.36970949 5.36029243 5.35097361\n",
      " 5.341696   5.33240938 5.32308054 5.31369    5.304222   5.294664\n",
      " 5.285001   5.275233   5.265363   5.25539446 5.24533367 5.23518467\n",
      " 5.224948   5.214622   5.204211   5.193731   5.18319655 5.17261362\n",
      " 5.161983   5.151313   5.14061546 5.129905   5.119209   5.10856152\n",
      " 5.09799    5.087525   5.077202   5.06705856 5.057126   5.04743242\n",
      " 5.038008   5.02887869 5.020076   5.011637   5.00365448 4.99671678\n",
      " 4.98701674 4.97673448 4.96601116 4.95504008 4.94404698 4.93326858\n",
      " 4.92292514 4.91319433 4.90419172 4.89596057 4.88847076 4.88162329\n",
      " 4.8752619  4.86919226 4.86320598 4.85710694 4.85072828 4.84393659\n",
      " 4.8366309  4.82874286 4.82024401 4.81115812 4.80156981 4.79162212\n",
      " 4.78149953 4.77139952 4.76150271 4.75194886 4.74282486 4.73416722\n",
      " 4.72597325 4.71821229 4.71083516 4.70378083 4.69697984 4.69035628\n",
      " 4.68383154 4.67732847 4.67077459 4.66410735 4.65728006 4.65026676\n",
      " 4.6430658  4.63569751 4.62819246 4.62057402 4.61283899 4.60494037\n",
      " 4.59678453 4.58824423 4.57918286 4.56948833 4.55910735 4.54807232\n",
      " 4.53651838 4.52468242 4.512876   4.50143508 4.49065824 4.48075633\n",
      " 4.47183283 4.4638915 ]\n"
     ]
    }
   ],
   "source": [
    "print(inf)\n",
    "print(UE)"
   ]
  },
  {
   "cell_type": "code",
   "execution_count": 267,
   "metadata": {},
   "outputs": [],
   "source": [
    "lag_inf = []\n",
    "lag_UE = []\n",
    "sum = 0\n",
    "x = 2\n",
    "for i in inf:\n",
    "    if sum + x > len(UE) -1:\n",
    "        break\n",
    "    else:\n",
    "        lag_inf.append(i)\n",
    "        lag_UE.append(UE[sum+ x])\n",
    "        sum+=1"
   ]
  },
  {
   "cell_type": "code",
   "execution_count": 276,
   "metadata": {},
   "outputs": [],
   "source": [
    "lag_inf = np.array(lag_inf).reshape(-1,1)\n",
    "lag_UE =np.array(lag_UE)"
   ]
  },
  {
   "cell_type": "code",
   "execution_count": 279,
   "metadata": {},
   "outputs": [],
   "source": [
    "transformer = PolynomialFeatures(degree=2, include_bias=False) #highest being X^2 \n",
    "transformer.fit(lag_inf)\n",
    "new_inf = transformer.transform(lag_inf)"
   ]
  },
  {
   "cell_type": "code",
   "execution_count": 280,
   "metadata": {},
   "outputs": [],
   "source": [
    "model = LinearRegression().fit(new_inf, lag_UE)"
   ]
  },
  {
   "cell_type": "code",
   "execution_count": 281,
   "metadata": {},
   "outputs": [
    {
     "data": {
      "text/plain": [
       "0.3433883852498367"
      ]
     },
     "execution_count": 281,
     "metadata": {},
     "output_type": "execute_result"
    }
   ],
   "source": [
    "model.score(new_inf,lag_UE) #wowee its higher!!! whoohoo."
   ]
  },
  {
   "cell_type": "code",
   "execution_count": 298,
   "metadata": {},
   "outputs": [
    {
     "data": {
      "text/plain": [
       "(290, 2)"
      ]
     },
     "execution_count": 298,
     "metadata": {},
     "output_type": "execute_result"
    }
   ],
   "source": [
    "np.shape(new_inf)"
   ]
  },
  {
   "cell_type": "code",
   "execution_count": 282,
   "metadata": {},
   "outputs": [],
   "source": [
    "x_value =[]\n",
    "sum = 0\n",
    "while sum <=20:\n",
    "    x_value.append(sum)\n",
    "    sum+=1\n"
   ]
  },
  {
   "cell_type": "markdown",
   "metadata": {},
   "source": [
    "Now i repeat the above process, but I spam X months. and i draw a nice graph from the spamming to see if we can obtain the lag value. I am economist."
   ]
  },
  {
   "cell_type": "code",
   "execution_count": 285,
   "metadata": {},
   "outputs": [],
   "source": [
    "r_score = []\n",
    "for x in x_value:\n",
    "    lag_inf = []\n",
    "    lag_UE = []\n",
    "    sum = 0\n",
    "    for i in inf:\n",
    "        if sum + x > len(UE) -1:\n",
    "            break\n",
    "        else:\n",
    "            lag_inf.append(i)\n",
    "            lag_UE.append(UE[sum+ x])\n",
    "            sum+=1\n",
    "    lag_inf = np.array(lag_inf).reshape(-1,1)\n",
    "    lag_UE =np.array(lag_UE)\n",
    "    transformer = PolynomialFeatures(degree=2, include_bias=False) #highest being X^2 \n",
    "    transformer.fit(lag_inf)\n",
    "    new_inf = transformer.transform(lag_inf)\n",
    "    model = LinearRegression().fit(new_inf, lag_UE)\n",
    "    r = model.score(new_inf,lag_UE) \n",
    "    r_score.append(r)"
   ]
  },
  {
   "cell_type": "code",
   "execution_count": 294,
   "metadata": {},
   "outputs": [
    {
     "name": "stdout",
     "output_type": "stream",
     "text": [
      "4\n"
     ]
    },
    {
     "data": {
      "image/png": "[encoded data removed]",
      "text/plain": [
       "<Figure size 432x288 with 1 Axes>"
      ]
     },
     "metadata": {
      "needs_background": "light"
     },
     "output_type": "display_data"
    }
   ],
   "source": [
    "plt.plot(r_score, x_value) \n",
    "print(r_score.index(max(r_score)))"
   ]
  },
  {
   "cell_type": "markdown",
   "metadata": {},
   "source": [
    "Wow! so it looks like a boomerang and 3 months is the optimal value to give the highest R score. Interesting! Next, I'm gonna try and add my own idea of accuracy metric! Basically if the predicted deviates too much from the actual I categorise it as it sucks. I figure it will be correlated to the R score!!"
   ]
  },
  {
   "cell_type": "code",
   "execution_count": 302,
   "metadata": {},
   "outputs": [],
   "source": [
    "r_score = []\n",
    "accuracy = []\n",
    "for x in x_value:\n",
    "    lag_inf = []\n",
    "    lag_UE = []\n",
    "    sum = 0\n",
    "    for i in inf:\n",
    "        if sum + x > len(UE) -1:\n",
    "            break\n",
    "        else:\n",
    "            lag_inf.append(i)\n",
    "            lag_UE.append(UE[sum+ x])\n",
    "            sum+=1\n",
    "    lag_inf = np.array(lag_inf).reshape(-1,1)\n",
    "    lag_UE =np.array(lag_UE)\n",
    "    transformer = PolynomialFeatures(degree=2, include_bias=False) #highest being X^2 \n",
    "    transformer.fit(lag_inf)\n",
    "    new_inf = transformer.transform(lag_inf)\n",
    "    model = LinearRegression().fit(new_inf, lag_UE)\n",
    "    r = model.score(new_inf,lag_UE) \n",
    "    r_score.append(r)\n",
    "    transformer = PolynomialFeatures(degree=2, include_bias=False) #highest being X^2 \n",
    "    transformer.fit(inf)\n",
    "    test_inf = transformer.transform(inf)\n",
    "    predict = model.predict(test_inf)\n",
    "    total = 0\n",
    "    correct = 0\n",
    "    for i in predict: \n",
    "        if abs(i - UE[total]) <=0.1:\n",
    "            correct +=1\n",
    "        total +=1\n",
    "    accuracy.append(correct/total *100)"
   ]
  },
  {
   "cell_type": "code",
   "execution_count": 312,
   "metadata": {},
   "outputs": [
    {
     "name": "stdout",
     "output_type": "stream",
     "text": [
      "[19.310344827586206, 20.0, 20.0, 20.0, 20.344827586206897, 20.0, 20.0, 20.0, 20.0, 20.344827586206897, 19.655172413793103, 19.655172413793103, 19.310344827586206, 19.655172413793103, 19.655172413793103, 20.0, 19.655172413793103, 19.655172413793103, 19.310344827586206, 19.310344827586206, 19.310344827586206]\n"
     ]
    }
   ],
   "source": [
    "print(accuracy)"
   ]
  },
  {
   "cell_type": "code",
   "execution_count": 309,
   "metadata": {},
   "outputs": [
    {
     "data": {
      "image/png": "[encoded data removed]",
      "text/plain": [
       "<Figure size 432x288 with 2 Axes>"
      ]
     },
     "metadata": {
      "needs_background": "light"
     },
     "output_type": "display_data"
    }
   ],
   "source": [
    "plt.subplot(1, 2, 1) # row 1, col 2 index 1\n",
    "plt.plot(r_score, x_value)\n",
    "plt.title(\"r_score with lag\")\n",
    "plt.xlabel('r_score')\n",
    "plt.ylabel('months')\n",
    "\n",
    "plt.subplot(1, 2, 2) # index 2\n",
    "plt.plot(accuracy, x_value)\n",
    "plt.title(\"accuracy with lag\")\n",
    "plt.xlabel('accuracy')\n",
    "\n",
    "plt.show()"
   ]
  },
  {
   "cell_type": "markdown",
   "metadata": {},
   "source": [
    "oh."
   ]
  },
  {
   "cell_type": "markdown",
   "metadata": {},
   "source": [
    "# Conclusion#\n",
    "In this fun-filled, boredom-driven activity, I looked at Singapore and the U.S.'s data using linear regression and did some simple, and probably wrong, analysis. For SG, the r value is so bad, probably because of there being no data at all lmao. For the U.S., the r value is better but its still really low at like 0.3, would have liked it to be 0.7ish :(. Anyways, this probably means inflation isn't a really strong indicator for UE? or it could mean i coded wrongly (highly likely). Also, I looked at the possiblity of time lag, which kind of boosted the r score a bit, if the time lag = 3 months. Any higher, and woosh the r score goes down which is probably q intuitive as to why. Also, its quite cool to note that the highest accuracy values are at 3 months (expected since r score is highest there) AND 8 months! wow! what's going on there! idk lmao"
   ]
  },
  {
   "cell_type": "code",
   "execution_count": null,
   "metadata": {},
   "outputs": [],
   "source": []
  }
 ],
 "metadata": {
  "kernelspec": {
   "display_name": "Python 3",
   "language": "python",
   "name": "python3"
  },
  "language_info": {
   "codemirror_mode": {
    "name": "ipython",
    "version": 3
   },
   "file_extension": ".py",
   "mimetype": "text/x-python",
   "name": "python",
   "nbconvert_exporter": "python",
   "pygments_lexer": "ipython3",
   "version": "3.7.3"
  }
 },
 "nbformat": 4,
 "nbformat_minor": 2
}
